{
 "cells": [
  {
   "cell_type": "markdown",
   "metadata": {},
   "source": [
    "### Data Source: [Agricultura (Kaggle)](https://www.kaggle.com/calvom/agricultura) (after cleaning dataset)\n",
    "\n",
    "Columns:\n",
    "* province_id\n",
    "* province\n",
    "* department_id\n",
    "* department\n",
    "* crop_id\n",
    "* crop\n",
    "* year_id\n",
    "* year (a growing year always starts in the autumn of the year before)\n",
    "* average_temperature [degrees Celsius]\n",
    "* area_sowed [hectars]\n",
    "* area_harvested [hectars]\n",
    "* production [tons]\n",
    "* performance [tons / ha]\n",
    "* quality (high/middle/low)"
   ]
  },
  {
   "cell_type": "code",
   "execution_count": 29,
   "metadata": {},
   "outputs": [],
   "source": [
    "import pandas as pd\n",
    "import numpy as np\n",
    "\n",
    "import pickle\n",
    "\n",
    "import plotly.express as px\n",
    "import matplotlib.pyplot as plt\n",
    "\n",
    "from sklearn.impute import SimpleImputer\n",
    "from sklearn.preprocessing import OrdinalEncoder\n",
    "from sklearn.model_selection import train_test_split\n",
    "from sklearn.model_selection import cross_validate\n",
    "from sklearn.metrics import *\n",
    "from sklearn.preprocessing import StandardScaler\n",
    "from sklearn import tree\n",
    "from sklearn import model_selection\n",
    "\n",
    "# algorithms\n",
    "from sklearn.tree import DecisionTreeClassifier\n",
    "from sklearn.linear_model import LogisticRegression\n",
    "from sklearn import svm\n",
    "from sklearn.ensemble import RandomForestClassifier\n",
    "from sklearn.neural_network import MLPClassifier\n",
    "#import tensorflow as tf"
   ]
  },
  {
   "cell_type": "code",
   "execution_count": 30,
   "metadata": {},
   "outputs": [
    {
     "data": {
      "text/html": [
       "<div>\n",
       "<style scoped>\n",
       "    .dataframe tbody tr th:only-of-type {\n",
       "        vertical-align: middle;\n",
       "    }\n",
       "\n",
       "    .dataframe tbody tr th {\n",
       "        vertical-align: top;\n",
       "    }\n",
       "\n",
       "    .dataframe thead th {\n",
       "        text-align: right;\n",
       "    }\n",
       "</style>\n",
       "<table border=\"1\" class=\"dataframe\">\n",
       "  <thead>\n",
       "    <tr style=\"text-align: right;\">\n",
       "      <th></th>\n",
       "      <th>Unnamed: 0</th>\n",
       "      <th>province_id</th>\n",
       "      <th>province</th>\n",
       "      <th>department_id</th>\n",
       "      <th>department</th>\n",
       "      <th>crop_id</th>\n",
       "      <th>crop</th>\n",
       "      <th>year_id</th>\n",
       "      <th>year</th>\n",
       "      <th>average_temperature</th>\n",
       "      <th>area_sowed</th>\n",
       "      <th>area_harvested</th>\n",
       "      <th>production</th>\n",
       "      <th>performance</th>\n",
       "      <th>quality</th>\n",
       "      <th>quality_numeric</th>\n",
       "    </tr>\n",
       "  </thead>\n",
       "  <tbody>\n",
       "    <tr>\n",
       "      <th>0</th>\n",
       "      <td>0</td>\n",
       "      <td>6</td>\n",
       "      <td>BUENOS AIRES</td>\n",
       "      <td>854</td>\n",
       "      <td>25 DE MAYO</td>\n",
       "      <td>1</td>\n",
       "      <td>garlic</td>\n",
       "      <td>1</td>\n",
       "      <td>1969/70</td>\n",
       "      <td>23</td>\n",
       "      <td>3.0</td>\n",
       "      <td>3.0</td>\n",
       "      <td>10.0</td>\n",
       "      <td>3.333</td>\n",
       "      <td>high</td>\n",
       "      <td>3.0</td>\n",
       "    </tr>\n",
       "    <tr>\n",
       "      <th>1</th>\n",
       "      <td>1</td>\n",
       "      <td>6</td>\n",
       "      <td>BUENOS AIRES</td>\n",
       "      <td>854</td>\n",
       "      <td>25 DE MAYO</td>\n",
       "      <td>1</td>\n",
       "      <td>garlic</td>\n",
       "      <td>2</td>\n",
       "      <td>1970/71</td>\n",
       "      <td>21</td>\n",
       "      <td>1.0</td>\n",
       "      <td>1.0</td>\n",
       "      <td>3.0</td>\n",
       "      <td>3.000</td>\n",
       "      <td>middle</td>\n",
       "      <td>2.0</td>\n",
       "    </tr>\n",
       "    <tr>\n",
       "      <th>2</th>\n",
       "      <td>2</td>\n",
       "      <td>6</td>\n",
       "      <td>BUENOS AIRES</td>\n",
       "      <td>14</td>\n",
       "      <td>ADOLFO GONZALES CHAVES</td>\n",
       "      <td>1</td>\n",
       "      <td>garlic</td>\n",
       "      <td>1</td>\n",
       "      <td>1969/70</td>\n",
       "      <td>30</td>\n",
       "      <td>15.0</td>\n",
       "      <td>15.0</td>\n",
       "      <td>82.0</td>\n",
       "      <td>5.467</td>\n",
       "      <td>middle</td>\n",
       "      <td>2.0</td>\n",
       "    </tr>\n",
       "    <tr>\n",
       "      <th>3</th>\n",
       "      <td>3</td>\n",
       "      <td>6</td>\n",
       "      <td>BUENOS AIRES</td>\n",
       "      <td>14</td>\n",
       "      <td>ADOLFO GONZALES CHAVES</td>\n",
       "      <td>1</td>\n",
       "      <td>garlic</td>\n",
       "      <td>2</td>\n",
       "      <td>1970/71</td>\n",
       "      <td>31</td>\n",
       "      <td>10.0</td>\n",
       "      <td>10.0</td>\n",
       "      <td>55.0</td>\n",
       "      <td>5.500</td>\n",
       "      <td>high</td>\n",
       "      <td>3.0</td>\n",
       "    </tr>\n",
       "    <tr>\n",
       "      <th>4</th>\n",
       "      <td>4</td>\n",
       "      <td>6</td>\n",
       "      <td>BUENOS AIRES</td>\n",
       "      <td>14</td>\n",
       "      <td>ADOLFO GONZALES CHAVES</td>\n",
       "      <td>1</td>\n",
       "      <td>garlic</td>\n",
       "      <td>3</td>\n",
       "      <td>1971/72</td>\n",
       "      <td>26</td>\n",
       "      <td>8.0</td>\n",
       "      <td>8.0</td>\n",
       "      <td>44.0</td>\n",
       "      <td>5.500</td>\n",
       "      <td>high</td>\n",
       "      <td>3.0</td>\n",
       "    </tr>\n",
       "  </tbody>\n",
       "</table>\n",
       "</div>"
      ],
      "text/plain": [
       "   Unnamed: 0  province_id      province  department_id  \\\n",
       "0           0            6  BUENOS AIRES            854   \n",
       "1           1            6  BUENOS AIRES            854   \n",
       "2           2            6  BUENOS AIRES             14   \n",
       "3           3            6  BUENOS AIRES             14   \n",
       "4           4            6  BUENOS AIRES             14   \n",
       "\n",
       "               department  crop_id    crop  year_id     year  \\\n",
       "0              25 DE MAYO        1  garlic        1  1969/70   \n",
       "1              25 DE MAYO        1  garlic        2  1970/71   \n",
       "2  ADOLFO GONZALES CHAVES        1  garlic        1  1969/70   \n",
       "3  ADOLFO GONZALES CHAVES        1  garlic        2  1970/71   \n",
       "4  ADOLFO GONZALES CHAVES        1  garlic        3  1971/72   \n",
       "\n",
       "   average_temperature  area_sowed  area_harvested  production  performance  \\\n",
       "0                   23         3.0             3.0        10.0        3.333   \n",
       "1                   21         1.0             1.0         3.0        3.000   \n",
       "2                   30        15.0            15.0        82.0        5.467   \n",
       "3                   31        10.0            10.0        55.0        5.500   \n",
       "4                   26         8.0             8.0        44.0        5.500   \n",
       "\n",
       "  quality  quality_numeric  \n",
       "0    high              3.0  \n",
       "1  middle              2.0  \n",
       "2  middle              2.0  \n",
       "3    high              3.0  \n",
       "4    high              3.0  "
      ]
     },
     "execution_count": 30,
     "metadata": {},
     "output_type": "execute_result"
    }
   ],
   "source": [
    "df = pd.read_csv('../data/cleaned/agricultura.csv', sep=',', low_memory=False)\n",
    "df.head()"
   ]
  },
  {
   "cell_type": "code",
   "execution_count": 31,
   "metadata": {},
   "outputs": [
    {
     "data": {
      "text/plain": [
       "(132769, 16)"
      ]
     },
     "execution_count": 31,
     "metadata": {},
     "output_type": "execute_result"
    }
   ],
   "source": [
    "df.shape"
   ]
  },
  {
   "cell_type": "markdown",
   "metadata": {},
   "source": [
    "## Drop irrelevant columns"
   ]
  },
  {
   "cell_type": "code",
   "execution_count": 32,
   "metadata": {},
   "outputs": [],
   "source": [
    "df = df.drop(['province_id', 'province', 'department_id', 'department', 'crop', 'year_id', 'year', 'quality'], axis=1)  # axis=1 deletes column"
   ]
  },
  {
   "cell_type": "markdown",
   "metadata": {},
   "source": [
    "## Normalise columns"
   ]
  },
  {
   "cell_type": "code",
   "execution_count": 33,
   "metadata": {},
   "outputs": [
    {
     "data": {
      "text/html": [
       "<div>\n",
       "<style scoped>\n",
       "    .dataframe tbody tr th:only-of-type {\n",
       "        vertical-align: middle;\n",
       "    }\n",
       "\n",
       "    .dataframe tbody tr th {\n",
       "        vertical-align: top;\n",
       "    }\n",
       "\n",
       "    .dataframe thead th {\n",
       "        text-align: right;\n",
       "    }\n",
       "</style>\n",
       "<table border=\"1\" class=\"dataframe\">\n",
       "  <thead>\n",
       "    <tr style=\"text-align: right;\">\n",
       "      <th></th>\n",
       "      <th>Unnamed: 0</th>\n",
       "      <th>crop_id</th>\n",
       "      <th>average_temperature</th>\n",
       "      <th>area_sowed</th>\n",
       "      <th>area_harvested</th>\n",
       "      <th>production</th>\n",
       "      <th>performance</th>\n",
       "      <th>quality_numeric</th>\n",
       "    </tr>\n",
       "  </thead>\n",
       "  <tbody>\n",
       "    <tr>\n",
       "      <th>0</th>\n",
       "      <td>0</td>\n",
       "      <td>1</td>\n",
       "      <td>23</td>\n",
       "      <td>3.0</td>\n",
       "      <td>3.0</td>\n",
       "      <td>10.0</td>\n",
       "      <td>3.333</td>\n",
       "      <td>3.0</td>\n",
       "    </tr>\n",
       "    <tr>\n",
       "      <th>1</th>\n",
       "      <td>1</td>\n",
       "      <td>1</td>\n",
       "      <td>21</td>\n",
       "      <td>1.0</td>\n",
       "      <td>1.0</td>\n",
       "      <td>3.0</td>\n",
       "      <td>3.000</td>\n",
       "      <td>2.0</td>\n",
       "    </tr>\n",
       "    <tr>\n",
       "      <th>2</th>\n",
       "      <td>2</td>\n",
       "      <td>1</td>\n",
       "      <td>30</td>\n",
       "      <td>15.0</td>\n",
       "      <td>15.0</td>\n",
       "      <td>82.0</td>\n",
       "      <td>5.467</td>\n",
       "      <td>2.0</td>\n",
       "    </tr>\n",
       "    <tr>\n",
       "      <th>3</th>\n",
       "      <td>3</td>\n",
       "      <td>1</td>\n",
       "      <td>31</td>\n",
       "      <td>10.0</td>\n",
       "      <td>10.0</td>\n",
       "      <td>55.0</td>\n",
       "      <td>5.500</td>\n",
       "      <td>3.0</td>\n",
       "    </tr>\n",
       "    <tr>\n",
       "      <th>4</th>\n",
       "      <td>4</td>\n",
       "      <td>1</td>\n",
       "      <td>26</td>\n",
       "      <td>8.0</td>\n",
       "      <td>8.0</td>\n",
       "      <td>44.0</td>\n",
       "      <td>5.500</td>\n",
       "      <td>3.0</td>\n",
       "    </tr>\n",
       "  </tbody>\n",
       "</table>\n",
       "</div>"
      ],
      "text/plain": [
       "   Unnamed: 0  crop_id  average_temperature  area_sowed  area_harvested  \\\n",
       "0           0        1                   23         3.0             3.0   \n",
       "1           1        1                   21         1.0             1.0   \n",
       "2           2        1                   30        15.0            15.0   \n",
       "3           3        1                   31        10.0            10.0   \n",
       "4           4        1                   26         8.0             8.0   \n",
       "\n",
       "   production  performance  quality_numeric  \n",
       "0        10.0        3.333              3.0  \n",
       "1         3.0        3.000              2.0  \n",
       "2        82.0        5.467              2.0  \n",
       "3        55.0        5.500              3.0  \n",
       "4        44.0        5.500              3.0  "
      ]
     },
     "execution_count": 33,
     "metadata": {},
     "output_type": "execute_result"
    }
   ],
   "source": [
    "df.head()"
   ]
  },
  {
   "cell_type": "code",
   "execution_count": 26,
   "metadata": {},
   "outputs": [],
   "source": [
    "# crops\n",
    "max_crop = df.crop_id.max()\n",
    "df[\"crop_id\"] = df.crop_id/max_crop\n",
    "\n",
    "# temperature\n",
    "max_temp = df.average_temperature.max()\n",
    "df[\"average_temperature\"] = df.average_temperature/max_temp\n",
    "\n",
    "# area_sowed\n",
    "max_sowed = df.area_sowed.max()\n",
    "df[\"area_sowed\"] = df.area_sowed/max_sowed\n",
    "\n",
    "# area_harvested\n",
    "max_harvest = df.area_harvested.max()\n",
    "df[\"area_harvested\"] = df.area_harvested/max_harvest\n",
    "\n",
    "# production\n",
    "max_prod = df.production.max()\n",
    "df[\"production\"] = df.production/max_prod\n",
    "\n",
    "# performance\n",
    "max_perf = df.performance.max()\n",
    "df[\"performance\"] = df.performance/max_perf\n",
    "\n",
    "df[\"quality_numeric\"] = df.quality_numeric-1"
   ]
  },
  {
   "cell_type": "markdown",
   "metadata": {},
   "source": [
    "## Obtaining training dataset"
   ]
  },
  {
   "cell_type": "code",
   "execution_count": 4,
   "metadata": {},
   "outputs": [],
   "source": [
    "# Split input and output\n",
    "X = df[df.columns[:-1]]\n",
    "y = df[df.columns[-1:]]\n",
    "\n",
    "# Train/test split\n",
    "X_train, X_test, y_train, y_test = train_test_split(X, y, test_size=0.3, random_state=5)"
   ]
  },
  {
   "cell_type": "code",
   "execution_count": 9,
   "metadata": {},
   "outputs": [
    {
     "data": {
      "text/plain": [
       "(92938, 7)"
      ]
     },
     "execution_count": 9,
     "metadata": {},
     "output_type": "execute_result"
    }
   ],
   "source": [
    "X_train.shape"
   ]
  },
  {
   "cell_type": "code",
   "execution_count": 10,
   "metadata": {},
   "outputs": [
    {
     "data": {
      "text/html": [
       "<div>\n",
       "<style scoped>\n",
       "    .dataframe tbody tr th:only-of-type {\n",
       "        vertical-align: middle;\n",
       "    }\n",
       "\n",
       "    .dataframe tbody tr th {\n",
       "        vertical-align: top;\n",
       "    }\n",
       "\n",
       "    .dataframe thead th {\n",
       "        text-align: right;\n",
       "    }\n",
       "</style>\n",
       "<table border=\"1\" class=\"dataframe\">\n",
       "  <thead>\n",
       "    <tr style=\"text-align: right;\">\n",
       "      <th></th>\n",
       "      <th>quality_numeric</th>\n",
       "    </tr>\n",
       "  </thead>\n",
       "  <tbody>\n",
       "    <tr>\n",
       "      <th>109572</th>\n",
       "      <td>2.0</td>\n",
       "    </tr>\n",
       "    <tr>\n",
       "      <th>38600</th>\n",
       "      <td>0.0</td>\n",
       "    </tr>\n",
       "    <tr>\n",
       "      <th>119920</th>\n",
       "      <td>1.0</td>\n",
       "    </tr>\n",
       "    <tr>\n",
       "      <th>29240</th>\n",
       "      <td>2.0</td>\n",
       "    </tr>\n",
       "    <tr>\n",
       "      <th>42912</th>\n",
       "      <td>1.0</td>\n",
       "    </tr>\n",
       "    <tr>\n",
       "      <th>...</th>\n",
       "      <td>...</td>\n",
       "    </tr>\n",
       "    <tr>\n",
       "      <th>121974</th>\n",
       "      <td>1.0</td>\n",
       "    </tr>\n",
       "    <tr>\n",
       "      <th>124605</th>\n",
       "      <td>0.0</td>\n",
       "    </tr>\n",
       "    <tr>\n",
       "      <th>20463</th>\n",
       "      <td>1.0</td>\n",
       "    </tr>\n",
       "    <tr>\n",
       "      <th>18638</th>\n",
       "      <td>1.0</td>\n",
       "    </tr>\n",
       "    <tr>\n",
       "      <th>35683</th>\n",
       "      <td>1.0</td>\n",
       "    </tr>\n",
       "  </tbody>\n",
       "</table>\n",
       "<p>92938 rows × 1 columns</p>\n",
       "</div>"
      ],
      "text/plain": [
       "        quality_numeric\n",
       "109572              2.0\n",
       "38600               0.0\n",
       "119920              1.0\n",
       "29240               2.0\n",
       "42912               1.0\n",
       "...                 ...\n",
       "121974              1.0\n",
       "124605              0.0\n",
       "20463               1.0\n",
       "18638               1.0\n",
       "35683               1.0\n",
       "\n",
       "[92938 rows x 1 columns]"
      ]
     },
     "execution_count": 10,
     "metadata": {},
     "output_type": "execute_result"
    }
   ],
   "source": [
    "y_train"
   ]
  },
  {
   "cell_type": "markdown",
   "metadata": {},
   "source": [
    "## Training the models"
   ]
  },
  {
   "cell_type": "markdown",
   "metadata": {},
   "source": [
    "### A. Random Forest Classifier"
   ]
  },
  {
   "cell_type": "code",
   "execution_count": 27,
   "metadata": {},
   "outputs": [
    {
     "data": {
      "text/plain": [
       "0.3999"
      ]
     },
     "execution_count": 27,
     "metadata": {},
     "output_type": "execute_result"
    }
   ],
   "source": [
    "#RF = RandomForestClassifier()\n",
    "RF = RandomForestClassifier(n_estimators=1000, max_depth=10, random_state=0)\n",
    "\n",
    "# validation\n",
    "#RF_scores = cross_validate(RF, X_train, y_train.values.ravel(), cv=3, scoring=('accuracy', 'average_precision', 'recall','f1'))\n",
    "#print(RF_scores)\n",
    "\n",
    "# train model\n",
    "RF.fit(X_train, y_train.values.ravel())\n",
    "\n",
    "# prediction\n",
    "RF_prediction = RF.predict(X_test)\n",
    "\n",
    "round(RF.score(X_test, y_test), 4)"
   ]
  },
  {
   "cell_type": "code",
   "execution_count": 15,
   "metadata": {},
   "outputs": [],
   "source": [
    "# save model\n",
    "pickle.dump(RF, open('../models/rf.model', 'wb'))"
   ]
  },
  {
   "cell_type": "code",
   "execution_count": null,
   "metadata": {},
   "outputs": [],
   "source": [
    "# load model\n",
    "RF = pickle.load(open('../models/rf.model', 'rb'))"
   ]
  },
  {
   "cell_type": "markdown",
   "metadata": {},
   "source": [
    "### B. Logistic Regression"
   ]
  },
  {
   "cell_type": "code",
   "execution_count": 20,
   "metadata": {},
   "outputs": [
    {
     "data": {
      "text/plain": [
       "0.3955"
      ]
     },
     "execution_count": 20,
     "metadata": {},
     "output_type": "execute_result"
    }
   ],
   "source": [
    "LR = LogisticRegression(random_state=0, solver='lbfgs', multi_class='multinomial')\n",
    "\n",
    "# train model\n",
    "LR.fit(X_train, y_train.values.ravel())\n",
    "\n",
    "# prediction\n",
    "LR.predict(X_test)\n",
    "\n",
    "round(LR.score(X_test,y_test), 4)"
   ]
  },
  {
   "cell_type": "code",
   "execution_count": 13,
   "metadata": {},
   "outputs": [],
   "source": [
    "# save model\n",
    "pickle.dump(LR, open('../models/lr.model', 'wb'))"
   ]
  },
  {
   "cell_type": "code",
   "execution_count": 19,
   "metadata": {},
   "outputs": [],
   "source": [
    "# load model\n",
    "LR = pickle.load(open('../models/lr.model', 'rb'))"
   ]
  },
  {
   "cell_type": "markdown",
   "metadata": {},
   "source": [
    "### C. Support Vector Machines"
   ]
  },
  {
   "cell_type": "code",
   "execution_count": 22,
   "metadata": {},
   "outputs": [
    {
     "data": {
      "text/plain": [
       "0.4012"
      ]
     },
     "execution_count": 22,
     "metadata": {},
     "output_type": "execute_result"
    }
   ],
   "source": [
    "#SVM = svm.SVC(decision_function_shape=\"ovo\")\n",
    "\n",
    "# train model\n",
    "#SVM.fit(X_train, y_train.values.ravel())\n",
    "\n",
    "# prediction\n",
    "SVM.predict(X_test)\n",
    "\n",
    "round(SVM.score(X_test, y_test), 4)"
   ]
  },
  {
   "cell_type": "code",
   "execution_count": 14,
   "metadata": {},
   "outputs": [],
   "source": [
    "# save model\n",
    "pickle.dump(SVM, open('../models/svm.model', 'wb'))"
   ]
  },
  {
   "cell_type": "code",
   "execution_count": 21,
   "metadata": {},
   "outputs": [],
   "source": [
    "# load model\n",
    "SVM = pickle.load(open('../models/svm.model', 'rb'))"
   ]
  },
  {
   "cell_type": "markdown",
   "metadata": {},
   "source": [
    "### D. Neural Network"
   ]
  },
  {
   "cell_type": "code",
   "execution_count": 34,
   "metadata": {},
   "outputs": [
    {
     "data": {
      "text/plain": [
       "0.4014"
      ]
     },
     "execution_count": 34,
     "metadata": {},
     "output_type": "execute_result"
    }
   ],
   "source": [
    "NN = MLPClassifier(solver='lbfgs', alpha=1e-5, hidden_layer_sizes=(150, 10), random_state=1)\n",
    "\n",
    "# train model\n",
    "NN.fit(X_train, y_train.values.ravel())\n",
    "\n",
    "# predict\n",
    "NN.predict(X_test)\n",
    "\n",
    "round(NN.score(X_test, y_test), 4)"
   ]
  },
  {
   "cell_type": "code",
   "execution_count": 25,
   "metadata": {},
   "outputs": [],
   "source": [
    "# save model\n",
    "pickle.dump(NN, open('../models/nn.model', 'wb'))"
   ]
  },
  {
   "cell_type": "code",
   "execution_count": null,
   "metadata": {},
   "outputs": [],
   "source": [
    "# load model\n",
    "NN = pickle.load(open('../models/nn.model', 'rb'))"
   ]
  },
  {
   "cell_type": "markdown",
   "metadata": {},
   "source": [
    "## Quality Predictions"
   ]
  },
  {
   "cell_type": "markdown",
   "metadata": {},
   "source": [
    "### Algorithm Comparison\n",
    "\n",
    "All algorithms have about a two in five chance of predicting the quality with the given criteria.\n",
    "\n",
    "| Algorithm                | Score  |\n",
    "| :----------------------- |:------:|\n",
    "| Random Forest Classifier | 0.3999 |\n",
    "| Logistic Regression      | 0.3955 |\n",
    "| Support Vector Machines  | 0.4012 |\n",
    "| Neural network           | 0.4014 |"
   ]
  },
  {
   "cell_type": "code",
   "execution_count": 35,
   "metadata": {},
   "outputs": [],
   "source": [
    "y_test_prediction_array = RF.predict(X_test)\n",
    "df_test = pd.DataFrame({\n",
    "    \"quality\": y_test[\"quality_numeric\"],\n",
    "    \"quality_prediction\": y_test_prediction_array\n",
    "})"
   ]
  },
  {
   "cell_type": "code",
   "execution_count": 38,
   "metadata": {},
   "outputs": [],
   "source": [
    "df_test[\"correct_prediction\"] = df_test.quality == df_test.quality_prediction"
   ]
  },
  {
   "cell_type": "code",
   "execution_count": 39,
   "metadata": {},
   "outputs": [
    {
     "data": {
      "text/html": [
       "<div>\n",
       "<style scoped>\n",
       "    .dataframe tbody tr th:only-of-type {\n",
       "        vertical-align: middle;\n",
       "    }\n",
       "\n",
       "    .dataframe tbody tr th {\n",
       "        vertical-align: top;\n",
       "    }\n",
       "\n",
       "    .dataframe thead th {\n",
       "        text-align: right;\n",
       "    }\n",
       "</style>\n",
       "<table border=\"1\" class=\"dataframe\">\n",
       "  <thead>\n",
       "    <tr style=\"text-align: right;\">\n",
       "      <th></th>\n",
       "      <th>quality</th>\n",
       "      <th>quality_prediction</th>\n",
       "      <th>correct_prediction</th>\n",
       "    </tr>\n",
       "  </thead>\n",
       "  <tbody>\n",
       "    <tr>\n",
       "      <th>22200</th>\n",
       "      <td>2.0</td>\n",
       "      <td>2.0</td>\n",
       "      <td>True</td>\n",
       "    </tr>\n",
       "    <tr>\n",
       "      <th>18745</th>\n",
       "      <td>3.0</td>\n",
       "      <td>3.0</td>\n",
       "      <td>True</td>\n",
       "    </tr>\n",
       "    <tr>\n",
       "      <th>75784</th>\n",
       "      <td>2.0</td>\n",
       "      <td>2.0</td>\n",
       "      <td>True</td>\n",
       "    </tr>\n",
       "    <tr>\n",
       "      <th>128155</th>\n",
       "      <td>2.0</td>\n",
       "      <td>2.0</td>\n",
       "      <td>True</td>\n",
       "    </tr>\n",
       "    <tr>\n",
       "      <th>14555</th>\n",
       "      <td>2.0</td>\n",
       "      <td>2.0</td>\n",
       "      <td>True</td>\n",
       "    </tr>\n",
       "    <tr>\n",
       "      <th>...</th>\n",
       "      <td>...</td>\n",
       "      <td>...</td>\n",
       "      <td>...</td>\n",
       "    </tr>\n",
       "    <tr>\n",
       "      <th>146</th>\n",
       "      <td>2.0</td>\n",
       "      <td>2.0</td>\n",
       "      <td>True</td>\n",
       "    </tr>\n",
       "    <tr>\n",
       "      <th>71123</th>\n",
       "      <td>3.0</td>\n",
       "      <td>3.0</td>\n",
       "      <td>True</td>\n",
       "    </tr>\n",
       "    <tr>\n",
       "      <th>79267</th>\n",
       "      <td>2.0</td>\n",
       "      <td>2.0</td>\n",
       "      <td>True</td>\n",
       "    </tr>\n",
       "    <tr>\n",
       "      <th>25675</th>\n",
       "      <td>3.0</td>\n",
       "      <td>3.0</td>\n",
       "      <td>True</td>\n",
       "    </tr>\n",
       "    <tr>\n",
       "      <th>10281</th>\n",
       "      <td>3.0</td>\n",
       "      <td>3.0</td>\n",
       "      <td>True</td>\n",
       "    </tr>\n",
       "  </tbody>\n",
       "</table>\n",
       "<p>15930 rows × 3 columns</p>\n",
       "</div>"
      ],
      "text/plain": [
       "        quality  quality_prediction  correct_prediction\n",
       "22200       2.0                 2.0                True\n",
       "18745       3.0                 3.0                True\n",
       "75784       2.0                 2.0                True\n",
       "128155      2.0                 2.0                True\n",
       "14555       2.0                 2.0                True\n",
       "...         ...                 ...                 ...\n",
       "146         2.0                 2.0                True\n",
       "71123       3.0                 3.0                True\n",
       "79267       2.0                 2.0                True\n",
       "25675       3.0                 3.0                True\n",
       "10281       3.0                 3.0                True\n",
       "\n",
       "[15930 rows x 3 columns]"
      ]
     },
     "execution_count": 39,
     "metadata": {},
     "output_type": "execute_result"
    }
   ],
   "source": [
    "df_test[df_test.correct_prediction == True]"
   ]
  },
  {
   "cell_type": "code",
   "execution_count": 40,
   "metadata": {},
   "outputs": [
    {
     "data": {
      "text/html": [
       "<div>\n",
       "<style scoped>\n",
       "    .dataframe tbody tr th:only-of-type {\n",
       "        vertical-align: middle;\n",
       "    }\n",
       "\n",
       "    .dataframe tbody tr th {\n",
       "        vertical-align: top;\n",
       "    }\n",
       "\n",
       "    .dataframe thead th {\n",
       "        text-align: right;\n",
       "    }\n",
       "</style>\n",
       "<table border=\"1\" class=\"dataframe\">\n",
       "  <thead>\n",
       "    <tr style=\"text-align: right;\">\n",
       "      <th></th>\n",
       "      <th>quality</th>\n",
       "      <th>quality_prediction</th>\n",
       "      <th>correct_prediction</th>\n",
       "    </tr>\n",
       "  </thead>\n",
       "  <tbody>\n",
       "    <tr>\n",
       "      <th>81067</th>\n",
       "      <td>2.0</td>\n",
       "      <td>3.0</td>\n",
       "      <td>False</td>\n",
       "    </tr>\n",
       "    <tr>\n",
       "      <th>87733</th>\n",
       "      <td>1.0</td>\n",
       "      <td>3.0</td>\n",
       "      <td>False</td>\n",
       "    </tr>\n",
       "    <tr>\n",
       "      <th>22200</th>\n",
       "      <td>2.0</td>\n",
       "      <td>2.0</td>\n",
       "      <td>True</td>\n",
       "    </tr>\n",
       "    <tr>\n",
       "      <th>18745</th>\n",
       "      <td>3.0</td>\n",
       "      <td>3.0</td>\n",
       "      <td>True</td>\n",
       "    </tr>\n",
       "    <tr>\n",
       "      <th>122052</th>\n",
       "      <td>2.0</td>\n",
       "      <td>3.0</td>\n",
       "      <td>False</td>\n",
       "    </tr>\n",
       "    <tr>\n",
       "      <th>...</th>\n",
       "      <td>...</td>\n",
       "      <td>...</td>\n",
       "      <td>...</td>\n",
       "    </tr>\n",
       "    <tr>\n",
       "      <th>130193</th>\n",
       "      <td>3.0</td>\n",
       "      <td>2.0</td>\n",
       "      <td>False</td>\n",
       "    </tr>\n",
       "    <tr>\n",
       "      <th>83779</th>\n",
       "      <td>3.0</td>\n",
       "      <td>2.0</td>\n",
       "      <td>False</td>\n",
       "    </tr>\n",
       "    <tr>\n",
       "      <th>79267</th>\n",
       "      <td>2.0</td>\n",
       "      <td>2.0</td>\n",
       "      <td>True</td>\n",
       "    </tr>\n",
       "    <tr>\n",
       "      <th>25675</th>\n",
       "      <td>3.0</td>\n",
       "      <td>3.0</td>\n",
       "      <td>True</td>\n",
       "    </tr>\n",
       "    <tr>\n",
       "      <th>10281</th>\n",
       "      <td>3.0</td>\n",
       "      <td>3.0</td>\n",
       "      <td>True</td>\n",
       "    </tr>\n",
       "  </tbody>\n",
       "</table>\n",
       "<p>39831 rows × 3 columns</p>\n",
       "</div>"
      ],
      "text/plain": [
       "        quality  quality_prediction  correct_prediction\n",
       "81067       2.0                 3.0               False\n",
       "87733       1.0                 3.0               False\n",
       "22200       2.0                 2.0                True\n",
       "18745       3.0                 3.0                True\n",
       "122052      2.0                 3.0               False\n",
       "...         ...                 ...                 ...\n",
       "130193      3.0                 2.0               False\n",
       "83779       3.0                 2.0               False\n",
       "79267       2.0                 2.0                True\n",
       "25675       3.0                 3.0                True\n",
       "10281       3.0                 3.0                True\n",
       "\n",
       "[39831 rows x 3 columns]"
      ]
     },
     "execution_count": 40,
     "metadata": {},
     "output_type": "execute_result"
    }
   ],
   "source": [
    "df_test"
   ]
  },
  {
   "cell_type": "code",
   "execution_count": null,
   "metadata": {},
   "outputs": [],
   "source": []
  }
 ],
 "metadata": {
  "kernelspec": {
   "display_name": "Python 3",
   "language": "python",
   "name": "python3"
  },
  "language_info": {
   "codemirror_mode": {
    "name": "ipython",
    "version": 3
   },
   "file_extension": ".py",
   "mimetype": "text/x-python",
   "name": "python",
   "nbconvert_exporter": "python",
   "pygments_lexer": "ipython3",
   "version": "3.7.6"
  }
 },
 "nbformat": 4,
 "nbformat_minor": 4
}
