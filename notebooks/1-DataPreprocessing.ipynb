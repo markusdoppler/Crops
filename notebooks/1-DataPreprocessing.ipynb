{
 "cells": [
  {
   "cell_type": "markdown",
   "metadata": {},
   "source": [
    "# Data Preprocessing"
   ]
  },
  {
   "cell_type": "markdown",
   "metadata": {},
   "source": [
    "## Data Source: [Agricultura in Brazil (Kaggle)](https://www.kaggle.com/calvom/agricultura)\n",
    "\n",
    "Columns:\n",
    "* ID Provincia          = province_id\n",
    "* Provincia             = province\n",
    "* ID Departamento       = department_id\n",
    "* Departamento          = department\n",
    "* Id Cultivo\t        = cultivation_id\n",
    "* Cultivo\t            = cultivation\n",
    "* ID Campa�a\t        = campaign_id\n",
    "* Campana\t            = campaign\n",
    "* Temperatura (Ce)      = average_temperature (in degrees Celsius)\n",
    "* Sup. Sembrada (Ha)    = area_sowed (hectars)\n",
    "* Sup. Cosechada (Ha)   = area_harvested (hectars)\n",
    "* Producci�n (Tn)       = production (in tons)\n",
    "* Rendimiento (Kg/Ha)   = performance (kg / ha)\n",
    "* Calidad               = quality"
   ]
  },
  {
   "cell_type": "markdown",
   "metadata": {},
   "source": [
    "### Agricultura"
   ]
  },
  {
   "cell_type": "code",
   "execution_count": 12,
   "metadata": {},
   "outputs": [
    {
     "data": {
      "text/html": [
       "<div>\n",
       "<style scoped>\n",
       "    .dataframe tbody tr th:only-of-type {\n",
       "        vertical-align: middle;\n",
       "    }\n",
       "\n",
       "    .dataframe tbody tr th {\n",
       "        vertical-align: top;\n",
       "    }\n",
       "\n",
       "    .dataframe thead th {\n",
       "        text-align: right;\n",
       "    }\n",
       "</style>\n",
       "<table border=\"1\" class=\"dataframe\">\n",
       "  <thead>\n",
       "    <tr style=\"text-align: right;\">\n",
       "      <th></th>\n",
       "      <th>ID Provincia</th>\n",
       "      <th>Provincia</th>\n",
       "      <th>ID Departamento</th>\n",
       "      <th>Departamento</th>\n",
       "      <th>Id Cultivo</th>\n",
       "      <th>Cultivo</th>\n",
       "      <th>ID Campa�a</th>\n",
       "      <th>Campana</th>\n",
       "      <th>Temperatura (Ce)</th>\n",
       "      <th>Sup. Sembrada (Ha)</th>\n",
       "      <th>Sup. Cosechada (Ha)</th>\n",
       "      <th>Producci�n (Tn)</th>\n",
       "      <th>Rendimiento (Kg/Ha)</th>\n",
       "      <th>Calidad</th>\n",
       "    </tr>\n",
       "  </thead>\n",
       "  <tbody>\n",
       "    <tr>\n",
       "      <th>0</th>\n",
       "      <td>6</td>\n",
       "      <td>BUENOS AIRES</td>\n",
       "      <td>854</td>\n",
       "      <td>25 DE MAYO</td>\n",
       "      <td>1</td>\n",
       "      <td>Ajo</td>\n",
       "      <td>1</td>\n",
       "      <td>1969/70</td>\n",
       "      <td>23</td>\n",
       "      <td>3.0</td>\n",
       "      <td>3.0</td>\n",
       "      <td>10</td>\n",
       "      <td>3.333</td>\n",
       "      <td>Alta</td>\n",
       "    </tr>\n",
       "    <tr>\n",
       "      <th>1</th>\n",
       "      <td>6</td>\n",
       "      <td>BUENOS AIRES</td>\n",
       "      <td>854</td>\n",
       "      <td>25 DE MAYO</td>\n",
       "      <td>1</td>\n",
       "      <td>Ajo</td>\n",
       "      <td>2</td>\n",
       "      <td>1970/71</td>\n",
       "      <td>21</td>\n",
       "      <td>1.0</td>\n",
       "      <td>1.0</td>\n",
       "      <td>3</td>\n",
       "      <td>3.000</td>\n",
       "      <td>Promedio</td>\n",
       "    </tr>\n",
       "    <tr>\n",
       "      <th>2</th>\n",
       "      <td>6</td>\n",
       "      <td>BUENOS AIRES</td>\n",
       "      <td>14</td>\n",
       "      <td>ADOLFO GONZALES CHAVES</td>\n",
       "      <td>1</td>\n",
       "      <td>Ajo</td>\n",
       "      <td>1</td>\n",
       "      <td>1969/70</td>\n",
       "      <td>30</td>\n",
       "      <td>15.0</td>\n",
       "      <td>15.0</td>\n",
       "      <td>82</td>\n",
       "      <td>5.467</td>\n",
       "      <td>Promedio</td>\n",
       "    </tr>\n",
       "    <tr>\n",
       "      <th>3</th>\n",
       "      <td>6</td>\n",
       "      <td>BUENOS AIRES</td>\n",
       "      <td>14</td>\n",
       "      <td>ADOLFO GONZALES CHAVES</td>\n",
       "      <td>1</td>\n",
       "      <td>Ajo</td>\n",
       "      <td>2</td>\n",
       "      <td>1970/71</td>\n",
       "      <td>31</td>\n",
       "      <td>10.0</td>\n",
       "      <td>10.0</td>\n",
       "      <td>55</td>\n",
       "      <td>5.500</td>\n",
       "      <td>Alta</td>\n",
       "    </tr>\n",
       "    <tr>\n",
       "      <th>4</th>\n",
       "      <td>6</td>\n",
       "      <td>BUENOS AIRES</td>\n",
       "      <td>14</td>\n",
       "      <td>ADOLFO GONZALES CHAVES</td>\n",
       "      <td>1</td>\n",
       "      <td>Ajo</td>\n",
       "      <td>3</td>\n",
       "      <td>1971/72</td>\n",
       "      <td>26</td>\n",
       "      <td>8.0</td>\n",
       "      <td>8.0</td>\n",
       "      <td>44</td>\n",
       "      <td>5.500</td>\n",
       "      <td>Alta</td>\n",
       "    </tr>\n",
       "  </tbody>\n",
       "</table>\n",
       "</div>"
      ],
      "text/plain": [
       "   ID Provincia     Provincia  ID Departamento            Departamento  \\\n",
       "0             6  BUENOS AIRES              854              25 DE MAYO   \n",
       "1             6  BUENOS AIRES              854              25 DE MAYO   \n",
       "2             6  BUENOS AIRES               14  ADOLFO GONZALES CHAVES   \n",
       "3             6  BUENOS AIRES               14  ADOLFO GONZALES CHAVES   \n",
       "4             6  BUENOS AIRES               14  ADOLFO GONZALES CHAVES   \n",
       "\n",
       "   Id Cultivo Cultivo  ID Campa�a  Campana  Temperatura (Ce)  \\\n",
       "0           1     Ajo           1  1969/70                23   \n",
       "1           1     Ajo           2  1970/71                21   \n",
       "2           1     Ajo           1  1969/70                30   \n",
       "3           1     Ajo           2  1970/71                31   \n",
       "4           1     Ajo           3  1971/72                26   \n",
       "\n",
       "   Sup. Sembrada (Ha)  Sup. Cosechada (Ha) Producci�n (Tn)  \\\n",
       "0                 3.0                  3.0              10   \n",
       "1                 1.0                  1.0               3   \n",
       "2                15.0                 15.0              82   \n",
       "3                10.0                 10.0              55   \n",
       "4                 8.0                  8.0              44   \n",
       "\n",
       "   Rendimiento (Kg/Ha)   Calidad  \n",
       "0                3.333      Alta  \n",
       "1                3.000  Promedio  \n",
       "2                5.467  Promedio  \n",
       "3                5.500      Alta  \n",
       "4                5.500      Alta  "
      ]
     },
     "execution_count": 12,
     "metadata": {},
     "output_type": "execute_result"
    }
   ],
   "source": [
    "import pandas as pd\n",
    "df = pd.read_csv('../data/raw/agricultura.csv', sep=',', low_memory=False)\n",
    "df.head()"
   ]
  },
  {
   "cell_type": "code",
   "execution_count": 54,
   "metadata": {},
   "outputs": [
    {
     "data": {
      "text/plain": [
       "Index(['province_id', 'province', 'department_id', 'department',\n",
       "       'cultivation_id', 'cultivation', 'year_id', 'year',\n",
       "       'average_temperature', 'area_sowed', 'area_harvested', 'production',\n",
       "       'performance', 'quality'],\n",
       "      dtype='object')"
      ]
     },
     "execution_count": 54,
     "metadata": {},
     "output_type": "execute_result"
    }
   ],
   "source": [
    "# Rename columns\n",
    "df.columns = ['province_id', 'province', 'department_id', 'department','cultivation_id', 'cultivation', 'year_id', 'year', 'average_temperature','area_sowed', 'area_harvested', 'production','performance', 'quality']\n",
    "df.columns"
   ]
  },
  {
   "cell_type": "markdown",
   "metadata": {},
   "source": [
    "### TODO: translate cultivation and quality columns"
   ]
  },
  {
   "cell_type": "code",
   "execution_count": null,
   "metadata": {},
   "outputs": [],
   "source": []
  },
  {
   "cell_type": "code",
   "execution_count": 55,
   "metadata": {},
   "outputs": [],
   "source": [
    "df.to_csv('../data/cleaned/agricultura.csv')"
   ]
  }
 ],
 "metadata": {
  "kernelspec": {
   "display_name": "Python 3",
   "language": "python",
   "name": "python3"
  },
  "language_info": {
   "codemirror_mode": {
    "name": "ipython",
    "version": 3
   },
   "file_extension": ".py",
   "mimetype": "text/x-python",
   "name": "python",
   "nbconvert_exporter": "python",
   "pygments_lexer": "ipython3",
   "version": "3.7.6"
  }
 },
 "nbformat": 4,
 "nbformat_minor": 4
}
